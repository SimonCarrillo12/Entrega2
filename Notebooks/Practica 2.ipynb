{
 "cells": [
  {
   "cell_type": "code",
   "execution_count": 1,
   "id": "f989f1c5-e2bf-4dc4-a373-d79228122843",
   "metadata": {},
   "outputs": [
    {
     "name": "stdout",
     "output_type": "stream",
     "text": [
      "The Zen of Python, by Tim Peters\n",
      "\n",
      "Beautiful is better than ugly.\n",
      "Explicit is better than implicit.\n",
      "Simple is better than complex.\n",
      "Complex is better than complicated.\n",
      "Flat is better than nested.\n",
      "Sparse is better than dense.\n",
      "Readability counts.\n",
      "Special cases aren't special enough to break the rules.\n",
      "Although practicality beats purity.\n",
      "Errors should never pass silently.\n",
      "Unless explicitly silenced.\n",
      "In the face of ambiguity, refuse the temptation to guess.\n",
      "There should be one-- and preferably only one --obvious way to do it.\n",
      "Although that way may not be obvious at first unless you're Dutch.\n",
      "Now is better than never.\n",
      "Although never is often better than *right* now.\n",
      "If the implementation is hard to explain, it's a bad idea.\n",
      "If the implementation is easy to explain, it may be a good idea.\n",
      "Namespaces are one honking great idea -- let's do more of those!\n"
     ]
    }
   ],
   "source": [
    "import this"
   ]
  },
  {
   "cell_type": "code",
   "execution_count": 9,
   "id": "348cbe3d-447d-4ab5-baf5-3cc4b943020d",
   "metadata": {},
   "outputs": [
    {
     "name": "stdout",
     "output_type": "stream",
     "text": [
      "Beautiful is better than ugly.\n",
      "Explicit is better than implicit.\n",
      "Simple is better than complex.\n",
      "Complex is better than complicated.\n",
      "Flat is better than nested.\n",
      "Sparse is better than dense.\n",
      "Readability counts.\n",
      "Special cases arent special enough to break the rules.\n",
      "Although practicality beats purity.\n",
      "Errors should never pass silently.\n",
      "Unless explicitly silenced.\n",
      "In the face of ambiguity, refuse the temptation to guess.\n",
      "There should be one-- and preferably only one --obvious way to do it.\n",
      "Although that way may not be obvious at first unless youre Dutch.\n",
      "Now is better than never.\n",
      "Although never is often better than *right* now.\n",
      "If the implementation is hard to explain, its a bad idea.\n",
      "If the implementation is easy to explain, it may be a good idea.\n",
      "Namespaces are one honking great idea -- lets do more of those!\n",
      "\n"
     ]
    }
   ],
   "source": [
    "zen_text= \"\"\"Beautiful is better than ugly.\n",
    "Explicit is better than implicit.\n",
    "Simple is better than complex.\n",
    "Complex is better than complicated.\n",
    "Flat is better than nested.\n",
    "Sparse is better than dense.\n",
    "Readability counts.\n",
    "Special cases arent special enough to break the rules.\n",
    "Although practicality beats purity.\n",
    "Errors should never pass silently.\n",
    "Unless explicitly silenced.\n",
    "In the face of ambiguity, refuse the temptation to guess.\n",
    "There should be one-- and preferably only one --obvious way to do it.\n",
    "Although that way may not be obvious at first unless youre Dutch.\n",
    "Now is better than never.\n",
    "Although never is often better than *right* now.\n",
    "If the implementation is hard to explain, its a bad idea.\n",
    "If the implementation is easy to explain, it may be a good idea.\n",
    "Namespaces are one honking great idea -- lets do more of those!\n",
    "\"\"\"\n",
    "print(zen_text)\n"
   ]
  },
  {
   "cell_type": "code",
   "execution_count": 16,
   "id": "b088ebf1-2dc7-49bd-ab10-f9d886cdca52",
   "metadata": {},
   "outputs": [
    {
     "name": "stdout",
     "output_type": "stream",
     "text": [
      "['Speedrun de Super Mario en tiempo récord', 'Charla sobre desarrollo de videojuegos', 'Jugando al nuevo FPS del momento con amigos', 'Música en vivo: improvisaciones al piano']\n",
      "el titulo mas largo es:  Jugando al nuevo FPS del momento con amigos\n"
     ]
    }
   ],
   "source": [
    "def cant_palabras (titles):\n",
    "    return (len(titles.split()))\n",
    "titles = [\n",
    "    \"Speedrun de Super Mario en tiempo récord\",\"Charla sobre desarrollo de videojuegos\",\n",
    "    \"Jugando al nuevo FPS del momento con amigos\",\n",
    "    \"Música en vivo: improvisaciones al piano\"\n",
    "    ]\n",
    "mas_largo=max(titles,key=cant_palabras)\n",
    "print (titles)\n",
    "print(\"el titulo mas largo es: \" ,mas_largo)"
   ]
  },
  {
   "cell_type": "code",
   "execution_count": 23,
   "id": "238d48b8-58bd-44e4-86be-5121023944d2",
   "metadata": {},
   "outputs": [
    {
     "name": "stdout",
     "output_type": "stream",
     "text": [
      "ingrese la palabra clave Usa\n"
     ]
    },
    {
     "name": "stdout",
     "output_type": "stream",
     "text": [
      "Usa los canales adecuados para cada tema.\n"
     ]
    }
   ],
   "source": [
    "rules = \"\"\"Respeta a los demás. No se permiten insultos ni lenguaje ofensivo.\n",
    "Evita el spam. No publiques enlaces sospechosos o repetitivos.\n",
    "No compartas información personal.\n",
    "Usa los canales adecuados para cada tema.\n",
    "Sigue las instrucciones de los moderadores.\"\"\"\n",
    "palabra_clave=input(\"ingrese la palabra clave\")\n",
    "reglas=rules.split('\\n')\n",
    "for regla in reglas :\n",
    "    if palabra_clave in regla:\n",
    "        print(regla)\n",
    "    "
   ]
  },
  {
   "cell_type": "code",
   "execution_count": 28,
   "id": "2a3c1d0b-dbec-4d43-80ad-229aa7fb673a",
   "metadata": {},
   "outputs": [
    {
     "name": "stdout",
     "output_type": "stream",
     "text": [
      "ingrese un nombre de usuario netas\n"
     ]
    },
    {
     "name": "stdout",
     "output_type": "stream",
     "text": [
      "Usuario no valido\n"
     ]
    }
   ],
   "source": [
    "def validar_usuario (usuario):\n",
    "    if len(usuario) <5:\n",
    "        return \"Usuario no valido\"\n",
    "    if not any (char.isdigit() for char in usuario):\n",
    "        return \"Usuario no valido\"\n",
    "    if not any(char.isupper() for char in usuario):\n",
    "        return \"Usuario no valido\"\n",
    "    if not all (char.isalnum() for char in usuario):\n",
    "        return \"Usuario no valido\"\n",
    "    return \"Usuario valido\"\n",
    "usuario=input(\"ingrese un nombre de usuario\")\n",
    "resultado = validar_usuario(usuario)\n",
    "print(resultado)"
   ]
  },
  {
   "cell_type": "code",
   "execution_count": 9,
   "id": "4f884f72",
   "metadata": {},
   "outputs": [
    {
     "name": "stdout",
     "output_type": "stream",
     "text": [
      "\n",
      "Ronda 1\n",
      "MVP de la ronda: Shadow\n",
      "\n",
      "Ronda 2\n",
      "MVP de la ronda: Frost\n",
      "\n",
      "Ronda 3\n",
      "MVP de la ronda: Blaze\n",
      "\n",
      "Ronda 4\n",
      "MVP de la ronda: Shadow\n",
      "\n",
      "Ronda 5\n",
      "MVP de la ronda: Viper\n",
      "\n",
      "Ranking final:\n",
      "\n",
      "Jugador    Kills  Asist.   Muertes  MVPs  Puntos\n",
      "--------------------------------------------------\n",
      "Shadow     6      6        2        2     22    \n",
      "Blaze      6      3        3        1     18    \n",
      "Viper      5      6        3        1     18    \n",
      "Reaper     4      5        1        0     16    \n",
      "Frost      4      5        2        1     15    \n"
     ]
    }
   ],
   "source": [
    "from functions import calcular_puntos, inicializar_stats, procesar_ronda, mostrar_ranking\n",
    "\n",
    "rounds = [\n",
    "    {\n",
    "        'Shadow': {'kills': 2, 'assists': 1, 'deaths': True},\n",
    "        'Blaze': {'kills': 1, 'assists': 0, 'deaths': False},\n",
    "        'Viper': {'kills': 1, 'assists': 2, 'deaths': True},\n",
    "        'Frost': {'kills': 0, 'assists': 1, 'deaths': False},\n",
    "        'Reaper': {'kills': 1, 'assists': 1, 'deaths': False}\n",
    "    },\n",
    "    {\n",
    "        'Shadow': {'kills': 0, 'assists': 2, 'deaths': False},\n",
    "        'Blaze': {'kills': 2, 'assists': 0, 'deaths': True},\n",
    "        'Viper': {'kills': 1, 'assists': 1, 'deaths': False},\n",
    "        'Frost': {'kills': 2, 'assists': 1, 'deaths': True},\n",
    "        'Reaper': {'kills': 0, 'assists': 1, 'deaths': False}\n",
    "    },\n",
    "    {\n",
    "        'Shadow': {'kills': 1, 'assists': 0, 'deaths': False},\n",
    "        'Blaze': {'kills': 2, 'assists': 2, 'deaths': True},\n",
    "        'Viper': {'kills': 1, 'assists': 1, 'deaths': True},\n",
    "        'Frost': {'kills': 0, 'assists': 1, 'deaths': False},\n",
    "        'Reaper': {'kills': 1, 'assists': 1, 'deaths': False}\n",
    "    },\n",
    "    {\n",
    "        'Shadow': {'kills': 2, 'assists': 1, 'deaths': False},\n",
    "        'Blaze': {'kills': 1, 'assists': 0, 'deaths': True},\n",
    "        'Viper': {'kills': 0, 'assists': 2, 'deaths': False},\n",
    "        'Frost': {'kills': 1, 'assists': 1, 'deaths': True},\n",
    "        'Reaper': {'kills': 1, 'assists': 1, 'deaths': False}\n",
    "    },\n",
    "    {\n",
    "        'Shadow': {'kills': 1, 'assists': 2, 'deaths': True},\n",
    "        'Blaze': {'kills': 0, 'assists': 1, 'deaths': False},\n",
    "        'Viper': {'kills': 2, 'assists': 0, 'deaths': True},\n",
    "        'Frost': {'kills': 1, 'assists': 1, 'deaths': False},\n",
    "        'Reaper': {'kills': 1, 'assists': 1, 'deaths': True}\n",
    "    }\n",
    "]\n",
    "\n",
    "# Inicializar totales con los jugadores de la primera ronda\n",
    "totales = inicializar_stats(rounds[0].keys())\n",
    "\n",
    "# Procesar todas las rondas\n",
    "for i, ronda in enumerate(rounds, start=1):\n",
    "    print(f\"\\nRonda {i}\")\n",
    "    procesar_ronda(ronda, totales)\n",
    "\n",
    "# Mostrar resultados\n",
    "mostrar_ranking(totales)\n"
   ]
  }
 ],
 "metadata": {
  "kernelspec": {
   "display_name": "venv",
   "language": "python",
   "name": "python3"
  },
  "language_info": {
   "codemirror_mode": {
    "name": "ipython",
    "version": 3
   },
   "file_extension": ".py",
   "mimetype": "text/x-python",
   "name": "python",
   "nbconvert_exporter": "python",
   "pygments_lexer": "ipython3",
   "version": "3.12.9"
  }
 },
 "nbformat": 4,
 "nbformat_minor": 5
}
